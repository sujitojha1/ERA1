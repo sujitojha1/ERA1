{
 "cells": [
  {
   "cell_type": "code",
   "execution_count": null,
   "metadata": {},
   "outputs": [],
   "source": []
  },
  {
   "cell_type": "markdown",
   "metadata": {},
   "source": [
    "## Describe your model -> fine - tuned LLaMA 2\n",
    "\n",
    "The goal of this notebook is to experiment with a new way to make it very easy to build a task-specific model for your use-case.\n",
    "\n",
    "Select a temperature (high=creative, low=precise), and the nubmer of training examples to generate to train the model. "
   ]
  },
  {
   "cell_type": "markdown",
   "metadata": {},
   "source": []
  },
  {
   "cell_type": "markdown",
   "metadata": {},
   "source": []
  }
 ],
 "metadata": {
  "language_info": {
   "name": "python"
  }
 },
 "nbformat": 4,
 "nbformat_minor": 2
}
